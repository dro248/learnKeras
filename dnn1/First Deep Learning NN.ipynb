{
 "cells": [
  {
   "cell_type": "markdown",
   "metadata": {},
   "source": [
    "# First Deep Learning Neural Network"
   ]
  },
  {
   "cell_type": "code",
   "execution_count": 26,
   "metadata": {},
   "outputs": [],
   "source": [
    "import numpy as np\n",
    "import matplotlib.pyplot as plt\n",
    "import pandas as pd\n",
    "\n",
    "# import dataset\n",
    "dataset = pd.read_csv('Churn_Modelling.csv')"
   ]
  },
  {
   "cell_type": "code",
   "execution_count": 27,
   "metadata": {},
   "outputs": [
    {
     "data": {
      "text/plain": [
       "array([[619, 'France', 'Female', ..., 1, 1, 101348.88],\n",
       "       [608, 'Spain', 'Female', ..., 0, 1, 112542.58],\n",
       "       [502, 'France', 'Female', ..., 1, 0, 113931.57],\n",
       "       ...,\n",
       "       [709, 'France', 'Female', ..., 0, 1, 42085.58],\n",
       "       [772, 'Germany', 'Male', ..., 1, 0, 92888.52],\n",
       "       [792, 'France', 'Female', ..., 1, 0, 38190.78]], dtype=object)"
      ]
     },
     "execution_count": 27,
     "metadata": {},
     "output_type": "execute_result"
    }
   ],
   "source": [
    "# explanatory variables\n",
    "X = dataset.iloc[:, 3:13].values\n",
    "X"
   ]
  },
  {
   "cell_type": "code",
   "execution_count": 28,
   "metadata": {},
   "outputs": [
    {
     "data": {
      "text/plain": [
       "array([1, 0, 1, ..., 1, 1, 0])"
      ]
     },
     "execution_count": 28,
     "metadata": {},
     "output_type": "execute_result"
    }
   ],
   "source": [
    "# target\n",
    "y = dataset.iloc[:, 13].values\n",
    "y"
   ]
  },
  {
   "cell_type": "code",
   "execution_count": 29,
   "metadata": {},
   "outputs": [],
   "source": [
    "from sklearn.preprocessing import LabelEncoder, OneHotEncoder\n",
    "\n",
    "labelencoder_X_1 = LabelEncoder()\n",
    "X[:, 1] = labelencoder_X_1.fit_transform(X[:, 1])\n",
    "\n",
    "labelencoder_X_2 = LabelEncoder()\n",
    "X[:, 2] = labelencoder_X_2.fit_transform(X[:, 2])"
   ]
  },
  {
   "cell_type": "code",
   "execution_count": 30,
   "metadata": {},
   "outputs": [],
   "source": [
    "onehotencoder = OneHotEncoder(categorical_features = [1])\n",
    "X = onehotencoder.fit_transform(X).toarray()\n",
    "X = X[:, 1:]"
   ]
  },
  {
   "cell_type": "code",
   "execution_count": 31,
   "metadata": {},
   "outputs": [],
   "source": [
    "# Splitting the dataset into the Training set and Test set\n",
    "from sklearn.model_selection import train_test_split\n",
    "X_train, X_test, y_train, y_test = train_test_split(X, y, test_size = 0.2)"
   ]
  },
  {
   "cell_type": "markdown",
   "metadata": {},
   "source": [
    "### Feature Scaling"
   ]
  },
  {
   "cell_type": "code",
   "execution_count": 32,
   "metadata": {},
   "outputs": [],
   "source": [
    "from sklearn.preprocessing import StandardScaler\n",
    "sc = StandardScaler()\n",
    "X_train = sc.fit_transform(X_train)\n",
    "X_test = sc.transform(X_test)"
   ]
  },
  {
   "cell_type": "markdown",
   "metadata": {},
   "source": [
    "### Importing Keras"
   ]
  },
  {
   "cell_type": "code",
   "execution_count": 33,
   "metadata": {},
   "outputs": [
    {
     "name": "stderr",
     "output_type": "stream",
     "text": [
      "Using TensorFlow backend.\n",
      "/usr/lib/python3.5/importlib/_bootstrap.py:222: RuntimeWarning: numpy.dtype size changed, may indicate binary incompatibility. Expected 96, got 88\n",
      "  return f(*args, **kwds)\n"
     ]
    }
   ],
   "source": [
    "# Importing the Keras libraries and packages\n",
    "import keras\n",
    "from keras.models import Sequential\n",
    "from keras.layers import Dense"
   ]
  },
  {
   "cell_type": "markdown",
   "metadata": {},
   "source": [
    "##### Initializing Neural Network"
   ]
  },
  {
   "cell_type": "code",
   "execution_count": 35,
   "metadata": {},
   "outputs": [],
   "source": [
    "#Initializing Neural Network .... input layer?\n",
    "classifier = Sequential()"
   ]
  },
  {
   "cell_type": "code",
   "execution_count": 37,
   "metadata": {},
   "outputs": [],
   "source": [
    "# Adding the input layer and the first hidden layer\n",
    "classifier.add(Dense(units=6, kernel_initializer='uniform', activation='relu', input_dim = 11))\n",
    "# Adding the second hidden layer\n",
    "classifier.add(Dense(units=6, kernel_initializer='uniform', activation='relu'))\n",
    "# Adding the output layer\n",
    "classifier.add(Dense(units=1, kernel_initializer='uniform', activation='sigmoid'))"
   ]
  },
  {
   "cell_type": "code",
   "execution_count": 38,
   "metadata": {},
   "outputs": [],
   "source": [
    "# Compiling Neural Network\n",
    "classifier.compile(optimizer = 'adam', loss = 'binary_crossentropy', metrics = ['accuracy'])"
   ]
  },
  {
   "cell_type": "code",
   "execution_count": 39,
   "metadata": {},
   "outputs": [
    {
     "name": "stderr",
     "output_type": "stream",
     "text": [
      "/usr/local/lib/python3.5/dist-packages/keras/models.py:944: UserWarning: The `nb_epoch` argument in `fit` has been renamed `epochs`.\n",
      "  warnings.warn('The `nb_epoch` argument in `fit` '\n"
     ]
    },
    {
     "name": "stdout",
     "output_type": "stream",
     "text": [
      "Epoch 1/100\n",
      "8000/8000 [==============================] - 3s 381us/step - loss: 0.5240 - acc: 0.7957\n",
      "Epoch 2/100\n",
      "8000/8000 [==============================] - 2s 261us/step - loss: 0.4760 - acc: 0.7957\n",
      "Epoch 3/100\n",
      "8000/8000 [==============================] - 2s 268us/step - loss: 0.4514 - acc: 0.7957\n",
      "Epoch 4/100\n",
      "8000/8000 [==============================] - 2s 268us/step - loss: 0.4345 - acc: 0.7957\n",
      "Epoch 5/100\n",
      "8000/8000 [==============================] - 2s 267us/step - loss: 0.4244 - acc: 0.7976\n",
      "Epoch 6/100\n",
      "8000/8000 [==============================] - 2s 262us/step - loss: 0.4166 - acc: 0.8210\n",
      "Epoch 7/100\n",
      "8000/8000 [==============================] - 2s 266us/step - loss: 0.4124 - acc: 0.8297\n",
      "Epoch 8/100\n",
      "8000/8000 [==============================] - 2s 264us/step - loss: 0.4109 - acc: 0.8311\n",
      "Epoch 9/100\n",
      "8000/8000 [==============================] - 2s 264us/step - loss: 0.4092 - acc: 0.8310\n",
      "Epoch 10/100\n",
      "8000/8000 [==============================] - 2s 269us/step - loss: 0.4080 - acc: 0.8311\n",
      "Epoch 11/100\n",
      "8000/8000 [==============================] - 2s 264us/step - loss: 0.4071 - acc: 0.8320\n",
      "Epoch 12/100\n",
      "8000/8000 [==============================] - 2s 264us/step - loss: 0.4064 - acc: 0.8322\n",
      "Epoch 13/100\n",
      "8000/8000 [==============================] - 2s 272us/step - loss: 0.4054 - acc: 0.8344\n",
      "Epoch 14/100\n",
      "8000/8000 [==============================] - 2s 271us/step - loss: 0.4044 - acc: 0.8339\n",
      "Epoch 15/100\n",
      "8000/8000 [==============================] - 2s 270us/step - loss: 0.4044 - acc: 0.8342\n",
      "Epoch 16/100\n",
      "8000/8000 [==============================] - 2s 268us/step - loss: 0.4043 - acc: 0.8329\n",
      "Epoch 17/100\n",
      "8000/8000 [==============================] - 2s 267us/step - loss: 0.4032 - acc: 0.8352\n",
      "Epoch 18/100\n",
      "8000/8000 [==============================] - 2s 265us/step - loss: 0.4026 - acc: 0.8341\n",
      "Epoch 19/100\n",
      "8000/8000 [==============================] - 2s 268us/step - loss: 0.4015 - acc: 0.8362\n",
      "Epoch 20/100\n",
      "8000/8000 [==============================] - 2s 269us/step - loss: 0.4014 - acc: 0.8350\n",
      "Epoch 21/100\n",
      "8000/8000 [==============================] - 2s 266us/step - loss: 0.4012 - acc: 0.8354\n",
      "Epoch 22/100\n",
      "8000/8000 [==============================] - 2s 266us/step - loss: 0.4009 - acc: 0.8355\n",
      "Epoch 23/100\n",
      "8000/8000 [==============================] - 2s 271us/step - loss: 0.4005 - acc: 0.8346\n",
      "Epoch 24/100\n",
      "8000/8000 [==============================] - 2s 265us/step - loss: 0.4002 - acc: 0.8339\n",
      "Epoch 25/100\n",
      "8000/8000 [==============================] - 2s 266us/step - loss: 0.4001 - acc: 0.8384\n",
      "Epoch 26/100\n",
      "8000/8000 [==============================] - 2s 273us/step - loss: 0.3997 - acc: 0.8357\n",
      "Epoch 27/100\n",
      "8000/8000 [==============================] - 2s 262us/step - loss: 0.3995 - acc: 0.8369\n",
      "Epoch 28/100\n",
      "8000/8000 [==============================] - 2s 267us/step - loss: 0.3992 - acc: 0.8356\n",
      "Epoch 29/100\n",
      "8000/8000 [==============================] - 2s 265us/step - loss: 0.3991 - acc: 0.8365\n",
      "Epoch 30/100\n",
      "8000/8000 [==============================] - 2s 265us/step - loss: 0.3989 - acc: 0.8345\n",
      "Epoch 31/100\n",
      "8000/8000 [==============================] - 2s 262us/step - loss: 0.3987 - acc: 0.8350\n",
      "Epoch 32/100\n",
      "8000/8000 [==============================] - 2s 271us/step - loss: 0.3985 - acc: 0.8366\n",
      "Epoch 33/100\n",
      "8000/8000 [==============================] - 2s 266us/step - loss: 0.3984 - acc: 0.8370\n",
      "Epoch 34/100\n",
      "8000/8000 [==============================] - 2s 266us/step - loss: 0.3984 - acc: 0.8361\n",
      "Epoch 35/100\n",
      "8000/8000 [==============================] - 2s 267us/step - loss: 0.3981 - acc: 0.8365\n",
      "Epoch 36/100\n",
      "8000/8000 [==============================] - 2s 267us/step - loss: 0.3979 - acc: 0.8367\n",
      "Epoch 37/100\n",
      "8000/8000 [==============================] - 2s 265us/step - loss: 0.3977 - acc: 0.8352\n",
      "Epoch 38/100\n",
      "8000/8000 [==============================] - 2s 268us/step - loss: 0.3981 - acc: 0.8361\n",
      "Epoch 39/100\n",
      "8000/8000 [==============================] - 2s 267us/step - loss: 0.3978 - acc: 0.8362\n",
      "Epoch 40/100\n",
      "8000/8000 [==============================] - 2s 267us/step - loss: 0.3971 - acc: 0.8381\n",
      "Epoch 41/100\n",
      "8000/8000 [==============================] - 2s 266us/step - loss: 0.3972 - acc: 0.8367\n",
      "Epoch 42/100\n",
      "8000/8000 [==============================] - 2s 273us/step - loss: 0.3981 - acc: 0.8355\n",
      "Epoch 43/100\n",
      "8000/8000 [==============================] - 2s 267us/step - loss: 0.3968 - acc: 0.8375\n",
      "Epoch 44/100\n",
      "8000/8000 [==============================] - 2s 272us/step - loss: 0.3970 - acc: 0.8359\n",
      "Epoch 45/100\n",
      "8000/8000 [==============================] - 2s 269us/step - loss: 0.3977 - acc: 0.8370\n",
      "Epoch 46/100\n",
      "8000/8000 [==============================] - 2s 266us/step - loss: 0.3967 - acc: 0.8370\n",
      "Epoch 47/100\n",
      "8000/8000 [==============================] - 2s 269us/step - loss: 0.3972 - acc: 0.8369\n",
      "Epoch 48/100\n",
      "8000/8000 [==============================] - 2s 270us/step - loss: 0.3968 - acc: 0.8367\n",
      "Epoch 49/100\n",
      "8000/8000 [==============================] - 2s 272us/step - loss: 0.3961 - acc: 0.8365\n",
      "Epoch 50/100\n",
      "8000/8000 [==============================] - 2s 266us/step - loss: 0.3970 - acc: 0.8349\n",
      "Epoch 51/100\n",
      "8000/8000 [==============================] - 2s 266us/step - loss: 0.3964 - acc: 0.8366\n",
      "Epoch 52/100\n",
      "8000/8000 [==============================] - 2s 265us/step - loss: 0.3962 - acc: 0.8347\n",
      "Epoch 53/100\n",
      "8000/8000 [==============================] - 2s 268us/step - loss: 0.3962 - acc: 0.8376\n",
      "Epoch 54/100\n",
      "8000/8000 [==============================] - 2s 264us/step - loss: 0.3961 - acc: 0.8369\n",
      "Epoch 55/100\n",
      "8000/8000 [==============================] - 2s 264us/step - loss: 0.3962 - acc: 0.8375\n",
      "Epoch 56/100\n",
      "8000/8000 [==============================] - 2s 266us/step - loss: 0.3955 - acc: 0.8399\n",
      "Epoch 57/100\n",
      "8000/8000 [==============================] - 2s 266us/step - loss: 0.3957 - acc: 0.8371\n",
      "Epoch 58/100\n",
      "8000/8000 [==============================] - 2s 265us/step - loss: 0.3959 - acc: 0.8376\n",
      "Epoch 59/100\n",
      "8000/8000 [==============================] - 2s 264us/step - loss: 0.3958 - acc: 0.8371\n",
      "Epoch 60/100\n",
      "8000/8000 [==============================] - 2s 266us/step - loss: 0.3961 - acc: 0.8375\n",
      "Epoch 61/100\n",
      "8000/8000 [==============================] - 2s 267us/step - loss: 0.3951 - acc: 0.8389\n",
      "Epoch 62/100\n",
      "8000/8000 [==============================] - 2s 267us/step - loss: 0.3954 - acc: 0.8381\n",
      "Epoch 63/100\n",
      "8000/8000 [==============================] - 2s 270us/step - loss: 0.3951 - acc: 0.8356\n",
      "Epoch 64/100\n",
      "8000/8000 [==============================] - 2s 273us/step - loss: 0.3951 - acc: 0.8374\n",
      "Epoch 65/100\n",
      "8000/8000 [==============================] - 2s 268us/step - loss: 0.3951 - acc: 0.8375\n",
      "Epoch 66/100\n",
      "8000/8000 [==============================] - 2s 266us/step - loss: 0.3949 - acc: 0.8380\n",
      "Epoch 67/100\n",
      "8000/8000 [==============================] - 2s 279us/step - loss: 0.3947 - acc: 0.8369\n",
      "Epoch 68/100\n",
      "8000/8000 [==============================] - 2s 267us/step - loss: 0.3946 - acc: 0.8384\n",
      "Epoch 69/100\n",
      "8000/8000 [==============================] - 2s 267us/step - loss: 0.3947 - acc: 0.8382\n",
      "Epoch 70/100\n",
      "8000/8000 [==============================] - 2s 262us/step - loss: 0.3944 - acc: 0.8364\n",
      "Epoch 71/100\n",
      "8000/8000 [==============================] - 2s 261us/step - loss: 0.3934 - acc: 0.8387\n",
      "Epoch 72/100\n",
      "8000/8000 [==============================] - 2s 261us/step - loss: 0.3946 - acc: 0.8372\n",
      "Epoch 73/100\n",
      "8000/8000 [==============================] - 2s 266us/step - loss: 0.3944 - acc: 0.8375\n",
      "Epoch 74/100\n",
      "8000/8000 [==============================] - 2s 264us/step - loss: 0.3944 - acc: 0.8384\n",
      "Epoch 75/100\n",
      "8000/8000 [==============================] - 2s 268us/step - loss: 0.3943 - acc: 0.8375\n",
      "Epoch 76/100\n",
      "8000/8000 [==============================] - 2s 265us/step - loss: 0.3942 - acc: 0.8372\n",
      "Epoch 77/100\n",
      "8000/8000 [==============================] - 2s 264us/step - loss: 0.3941 - acc: 0.8381\n",
      "Epoch 78/100\n",
      "8000/8000 [==============================] - 2s 265us/step - loss: 0.3941 - acc: 0.8367\n",
      "Epoch 79/100\n",
      "8000/8000 [==============================] - 2s 270us/step - loss: 0.3940 - acc: 0.8362\n",
      "Epoch 80/100\n",
      "8000/8000 [==============================] - 2s 263us/step - loss: 0.3939 - acc: 0.8380\n",
      "Epoch 81/100\n",
      "8000/8000 [==============================] - 2s 264us/step - loss: 0.3937 - acc: 0.8391\n",
      "Epoch 82/100\n"
     ]
    },
    {
     "name": "stdout",
     "output_type": "stream",
     "text": [
      "8000/8000 [==============================] - 2s 258us/step - loss: 0.3937 - acc: 0.8366\n",
      "Epoch 83/100\n",
      "8000/8000 [==============================] - 2s 262us/step - loss: 0.3935 - acc: 0.8391\n",
      "Epoch 84/100\n",
      "8000/8000 [==============================] - 2s 270us/step - loss: 0.3938 - acc: 0.8376\n",
      "Epoch 85/100\n",
      "8000/8000 [==============================] - 2s 271us/step - loss: 0.3931 - acc: 0.8372\n",
      "Epoch 86/100\n",
      "8000/8000 [==============================] - 2s 270us/step - loss: 0.3940 - acc: 0.8384\n",
      "Epoch 87/100\n",
      "8000/8000 [==============================] - 2s 270us/step - loss: 0.3937 - acc: 0.8376\n",
      "Epoch 88/100\n",
      "8000/8000 [==============================] - 2s 268us/step - loss: 0.3937 - acc: 0.8380\n",
      "Epoch 89/100\n",
      "8000/8000 [==============================] - 2s 269us/step - loss: 0.3937 - acc: 0.8391\n",
      "Epoch 90/100\n",
      "8000/8000 [==============================] - 2s 266us/step - loss: 0.3938 - acc: 0.8370\n",
      "Epoch 91/100\n",
      "8000/8000 [==============================] - 2s 266us/step - loss: 0.3935 - acc: 0.8401\n",
      "Epoch 92/100\n",
      "8000/8000 [==============================] - 2s 267us/step - loss: 0.3939 - acc: 0.8375\n",
      "Epoch 93/100\n",
      "8000/8000 [==============================] - 2s 269us/step - loss: 0.3931 - acc: 0.8381\n",
      "Epoch 94/100\n",
      "8000/8000 [==============================] - 2s 269us/step - loss: 0.3932 - acc: 0.8385\n",
      "Epoch 95/100\n",
      "8000/8000 [==============================] - 2s 270us/step - loss: 0.3932 - acc: 0.8375\n",
      "Epoch 96/100\n",
      "8000/8000 [==============================] - 2s 270us/step - loss: 0.3929 - acc: 0.8372\n",
      "Epoch 97/100\n",
      "8000/8000 [==============================] - 2s 267us/step - loss: 0.3929 - acc: 0.8387\n",
      "Epoch 98/100\n",
      "8000/8000 [==============================] - 2s 266us/step - loss: 0.3924 - acc: 0.8371\n",
      "Epoch 99/100\n",
      "8000/8000 [==============================] - 2s 263us/step - loss: 0.3929 - acc: 0.8374\n",
      "Epoch 100/100\n",
      "8000/8000 [==============================] - 2s 268us/step - loss: 0.3931 - acc: 0.8395\n"
     ]
    },
    {
     "data": {
      "text/plain": [
       "<keras.callbacks.History at 0x7f5d38c034e0>"
      ]
     },
     "execution_count": 39,
     "metadata": {},
     "output_type": "execute_result"
    }
   ],
   "source": [
    "# Fitting our model \n",
    "classifier.fit(X_train, y_train, batch_size=10, epoch=100)"
   ]
  },
  {
   "cell_type": "code",
   "execution_count": 42,
   "metadata": {},
   "outputs": [
    {
     "data": {
      "text/plain": [
       "array([[False],\n",
       "       [False],\n",
       "       [False],\n",
       "       ...,\n",
       "       [False],\n",
       "       [False],\n",
       "       [False]])"
      ]
     },
     "execution_count": 42,
     "metadata": {},
     "output_type": "execute_result"
    }
   ],
   "source": [
    "# Predicting the Test set results\n",
    "y_pred = classifier.predict(X_test)\n",
    "y_pred = (y_pred > 0.5)\n",
    "y_pred"
   ]
  },
  {
   "cell_type": "code",
   "execution_count": 45,
   "metadata": {},
   "outputs": [
    {
     "data": {
      "text/plain": [
       "array([[1524,   73],\n",
       "       [ 246,  157]])"
      ]
     },
     "execution_count": 45,
     "metadata": {},
     "output_type": "execute_result"
    }
   ],
   "source": [
    "# Creating the Confusion Matrix\n",
    "from sklearn.metrics import confusion_matrix\n",
    "cm = confusion_matrix(y_test, y_pred)\n",
    "cm"
   ]
  },
  {
   "cell_type": "code",
   "execution_count": null,
   "metadata": {},
   "outputs": [],
   "source": []
  }
 ],
 "metadata": {
  "kernelspec": {
   "display_name": "Python 3",
   "language": "python",
   "name": "python3"
  },
  "language_info": {
   "codemirror_mode": {
    "name": "ipython",
    "version": 3
   },
   "file_extension": ".py",
   "mimetype": "text/x-python",
   "name": "python",
   "nbconvert_exporter": "python",
   "pygments_lexer": "ipython3",
   "version": "3.5.2"
  }
 },
 "nbformat": 4,
 "nbformat_minor": 2
}
